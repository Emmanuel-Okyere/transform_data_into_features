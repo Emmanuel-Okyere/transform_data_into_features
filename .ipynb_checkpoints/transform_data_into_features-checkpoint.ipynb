{
 "cells": [
  {
   "cell_type": "code",
   "execution_count": 21,
   "id": "446dfd8c",
   "metadata": {},
   "outputs": [],
   "source": [
    "import pandas as pd\n",
    "import numpy as np\n",
    "from sklearn.preprocessing import StandardScaler"
   ]
  },
  {
   "cell_type": "code",
   "execution_count": 22,
   "id": "a39c9fef",
   "metadata": {},
   "outputs": [],
   "source": [
    "#import data\n",
    "reviews = pd.read_csv(\"reviews.csv\")"
   ]
  },
  {
   "cell_type": "code",
   "execution_count": 23,
   "id": "c807e670",
   "metadata": {},
   "outputs": [
    {
     "data": {
      "text/html": [
       "<div>\n",
       "<style scoped>\n",
       "    .dataframe tbody tr th:only-of-type {\n",
       "        vertical-align: middle;\n",
       "    }\n",
       "\n",
       "    .dataframe tbody tr th {\n",
       "        vertical-align: top;\n",
       "    }\n",
       "\n",
       "    .dataframe thead th {\n",
       "        text-align: right;\n",
       "    }\n",
       "</style>\n",
       "<table border=\"1\" class=\"dataframe\">\n",
       "  <thead>\n",
       "    <tr style=\"text-align: right;\">\n",
       "      <th></th>\n",
       "      <th>clothing_id</th>\n",
       "      <th>age</th>\n",
       "      <th>review_title</th>\n",
       "      <th>review_text</th>\n",
       "      <th>recommended</th>\n",
       "      <th>division_name</th>\n",
       "      <th>department_name</th>\n",
       "      <th>review_date</th>\n",
       "      <th>rating</th>\n",
       "    </tr>\n",
       "  </thead>\n",
       "  <tbody>\n",
       "    <tr>\n",
       "      <th>0</th>\n",
       "      <td>1095</td>\n",
       "      <td>39</td>\n",
       "      <td>Cute,looks like a dress on</td>\n",
       "      <td>If you are afraid of the jumpsuit trend but li...</td>\n",
       "      <td>True</td>\n",
       "      <td>General</td>\n",
       "      <td>Dresses</td>\n",
       "      <td>2019-07-08</td>\n",
       "      <td>Liked it</td>\n",
       "    </tr>\n",
       "    <tr>\n",
       "      <th>1</th>\n",
       "      <td>1095</td>\n",
       "      <td>28</td>\n",
       "      <td>So cute, great print!</td>\n",
       "      <td>I love fitted top dresses like this but i find...</td>\n",
       "      <td>True</td>\n",
       "      <td>General</td>\n",
       "      <td>Dresses</td>\n",
       "      <td>2019-05-17</td>\n",
       "      <td>Loved it</td>\n",
       "    </tr>\n",
       "    <tr>\n",
       "      <th>2</th>\n",
       "      <td>699</td>\n",
       "      <td>37</td>\n",
       "      <td>So flattering!</td>\n",
       "      <td>I love these cozy, fashionable leggings. they ...</td>\n",
       "      <td>True</td>\n",
       "      <td>Initmates</td>\n",
       "      <td>Intimate</td>\n",
       "      <td>2019-06-24</td>\n",
       "      <td>Loved it</td>\n",
       "    </tr>\n",
       "    <tr>\n",
       "      <th>3</th>\n",
       "      <td>1072</td>\n",
       "      <td>36</td>\n",
       "      <td>Effortless</td>\n",
       "      <td>Another reviewer said it best, \"i love the way...</td>\n",
       "      <td>True</td>\n",
       "      <td>General Petite</td>\n",
       "      <td>Dresses</td>\n",
       "      <td>2019-12-06</td>\n",
       "      <td>Loved it</td>\n",
       "    </tr>\n",
       "    <tr>\n",
       "      <th>4</th>\n",
       "      <td>1094</td>\n",
       "      <td>32</td>\n",
       "      <td>You need this!</td>\n",
       "      <td>Rompers are my fav so i'm biased writing this ...</td>\n",
       "      <td>True</td>\n",
       "      <td>General</td>\n",
       "      <td>Dresses</td>\n",
       "      <td>2019-10-04</td>\n",
       "      <td>Loved it</td>\n",
       "    </tr>\n",
       "  </tbody>\n",
       "</table>\n",
       "</div>"
      ],
      "text/plain": [
       "   clothing_id  age                review_title  \\\n",
       "0         1095   39  Cute,looks like a dress on   \n",
       "1         1095   28       So cute, great print!   \n",
       "2          699   37              So flattering!   \n",
       "3         1072   36                  Effortless   \n",
       "4         1094   32              You need this!   \n",
       "\n",
       "                                         review_text  recommended  \\\n",
       "0  If you are afraid of the jumpsuit trend but li...         True   \n",
       "1  I love fitted top dresses like this but i find...         True   \n",
       "2  I love these cozy, fashionable leggings. they ...         True   \n",
       "3  Another reviewer said it best, \"i love the way...         True   \n",
       "4  Rompers are my fav so i'm biased writing this ...         True   \n",
       "\n",
       "    division_name department_name review_date    rating  \n",
       "0         General         Dresses  2019-07-08  Liked it  \n",
       "1         General         Dresses  2019-05-17  Loved it  \n",
       "2       Initmates        Intimate  2019-06-24  Loved it  \n",
       "3  General Petite         Dresses  2019-12-06  Loved it  \n",
       "4         General         Dresses  2019-10-04  Loved it  "
      ]
     },
     "execution_count": 23,
     "metadata": {},
     "output_type": "execute_result"
    }
   ],
   "source": [
    "#print column names\n",
    "reviews.head()\n"
   ]
  },
  {
   "cell_type": "code",
   "execution_count": 24,
   "id": "d506cfed",
   "metadata": {},
   "outputs": [
    {
     "name": "stdout",
     "output_type": "stream",
     "text": [
      "<class 'pandas.core.frame.DataFrame'>\n",
      "RangeIndex: 5000 entries, 0 to 4999\n",
      "Data columns (total 9 columns):\n",
      " #   Column           Non-Null Count  Dtype \n",
      "---  ------           --------------  ----- \n",
      " 0   clothing_id      5000 non-null   int64 \n",
      " 1   age              5000 non-null   int64 \n",
      " 2   review_title     4174 non-null   object\n",
      " 3   review_text      4804 non-null   object\n",
      " 4   recommended      5000 non-null   bool  \n",
      " 5   division_name    4996 non-null   object\n",
      " 6   department_name  4996 non-null   object\n",
      " 7   review_date      5000 non-null   object\n",
      " 8   rating           5000 non-null   object\n",
      "dtypes: bool(1), int64(2), object(6)\n",
      "memory usage: 317.5+ KB\n"
     ]
    }
   ],
   "source": [
    " \n",
    "#print .info\n",
    "reviews.info()\n"
   ]
  },
  {
   "cell_type": "code",
   "execution_count": 25,
   "id": "eade6f8a",
   "metadata": {},
   "outputs": [
    {
     "name": "stdout",
     "output_type": "stream",
     "text": [
      "True     4166\n",
      "False     834\n",
      "Name: recommended, dtype: int64\n"
     ]
    }
   ],
   "source": [
    "#look at the counts of recommended\n",
    "print(reviews[\"recommended\"].value_counts())\n",
    " "
   ]
  },
  {
   "cell_type": "code",
   "execution_count": 26,
   "id": "f9dbb289",
   "metadata": {},
   "outputs": [],
   "source": [
    "#create binary dictionary\n",
    "binary_dict = {True: 1, False:0}\n",
    " "
   ]
  },
  {
   "cell_type": "code",
   "execution_count": 27,
   "id": "5449a1b2",
   "metadata": {},
   "outputs": [],
   "source": [
    "#transform column\n",
    "reviews[\"recommended\"] = reviews[\"recommended\"].map(binary_dict)\n",
    " "
   ]
  },
  {
   "cell_type": "code",
   "execution_count": 28,
   "id": "077186a9",
   "metadata": {},
   "outputs": [
    {
     "name": "stdout",
     "output_type": "stream",
     "text": [
      "1    4166\n",
      "0     834\n",
      "Name: recommended, dtype: int64\n"
     ]
    }
   ],
   "source": [
    "#print your transformed column\n",
    "print(reviews[\"recommended\"].value_counts())\n"
   ]
  },
  {
   "cell_type": "code",
   "execution_count": 29,
   "id": "a1242f1a",
   "metadata": {},
   "outputs": [
    {
     "name": "stdout",
     "output_type": "stream",
     "text": [
      "Loved it     2798\n",
      "Liked it     1141\n",
      "Was okay      564\n",
      "Not great     304\n",
      "Hated it      193\n",
      "Name: rating, dtype: int64\n"
     ]
    }
   ],
   "source": [
    "#look at the counts of rating\n",
    "print(reviews[\"rating\"].value_counts())\n",
    " "
   ]
  },
  {
   "cell_type": "code",
   "execution_count": 30,
   "id": "ff791517",
   "metadata": {},
   "outputs": [],
   "source": [
    "\n",
    "#create dictionary\n",
    "rating_dict = {\"Loved it\":5, \"Liked it\": 4, \"Was Okay\":3, \"Not great\":2, \"Hated it\":1}\n",
    " "
   ]
  },
  {
   "cell_type": "code",
   "execution_count": 31,
   "id": "d34aa029",
   "metadata": {},
   "outputs": [
    {
     "name": "stdout",
     "output_type": "stream",
     "text": [
      "5.0    2798\n",
      "4.0    1141\n",
      "2.0     304\n",
      "1.0     193\n",
      "Name: rating, dtype: int64\n"
     ]
    }
   ],
   "source": [
    "#transform rating column\n",
    "reviews[\"rating\"] = reviews[\"rating\"].map(rating_dict)\n",
    "#print your transformed column values\n",
    "print(reviews[\"rating\"].value_counts())"
   ]
  },
  {
   "cell_type": "code",
   "execution_count": 32,
   "id": "1e8be043",
   "metadata": {},
   "outputs": [
    {
     "name": "stdout",
     "output_type": "stream",
     "text": [
      "Tops        2196\n",
      "Dresses     1322\n",
      "Bottoms      848\n",
      "Intimate     378\n",
      "Jackets      224\n",
      "Trend         28\n",
      "Name: department_name, dtype: int64\n"
     ]
    }
   ],
   "source": [
    "#get the number of categories in a feature\n",
    "print(reviews[\"department_name\"].value_counts())\n",
    " "
   ]
  },
  {
   "cell_type": "code",
   "execution_count": 33,
   "id": "d72339aa",
   "metadata": {},
   "outputs": [],
   "source": [
    "#perform get_dummies\n",
    "one_hot = pd.get_dummies(reviews[\"department_name\"])\n",
    " "
   ]
  },
  {
   "cell_type": "code",
   "execution_count": 34,
   "id": "0b586cb5",
   "metadata": {},
   "outputs": [],
   "source": [
    "#join the new columns back onto the original\n",
    "reviews = reviews.join(one_hot)\n"
   ]
  },
  {
   "cell_type": "code",
   "execution_count": 35,
   "id": "66f58ec9",
   "metadata": {},
   "outputs": [
    {
     "name": "stdout",
     "output_type": "stream",
     "text": [
      "Index(['clothing_id', 'age', 'review_title', 'review_text', 'recommended',\n",
      "       'division_name', 'department_name', 'review_date', 'rating', 'Bottoms',\n",
      "       'Dresses', 'Intimate', 'Jackets', 'Tops', 'Trend'],\n",
      "      dtype='object')\n"
     ]
    }
   ],
   "source": [
    "#print column names\n",
    "print(reviews.columns)\n"
   ]
  },
  {
   "cell_type": "code",
   "execution_count": 36,
   "id": "497874e2",
   "metadata": {},
   "outputs": [
    {
     "name": "stdout",
     "output_type": "stream",
     "text": [
      "datetime64[ns]\n"
     ]
    }
   ],
   "source": [
    "#transform review_date to date-time data\n",
    "reviews[\"review_date\"] = pd.to_datetime(reviews[\"review_date\"])\n",
    "#print review_date data type \n",
    "print(reviews[\"review_date\"].dtypes)\n"
   ]
  },
  {
   "cell_type": "code",
   "execution_count": 37,
   "id": "69d0903f",
   "metadata": {},
   "outputs": [],
   "source": [
    "\n",
    "#get numerical columns\n",
    "reviews = reviews[['clothing_id', 'age', 'recommended', 'rating', 'Bottoms', 'Dresses', 'Intimate', 'Jackets', 'Tops', 'Trend']].copy()"
   ]
  },
  {
   "cell_type": "code",
   "execution_count": 38,
   "id": "8ad6c236",
   "metadata": {},
   "outputs": [],
   "source": [
    "#reset index\n",
    "reviews = reviews.set_index(reviews[\"clothing_id\"])\n",
    "#instantiate standard scaler\n",
    "scaler = StandardScaler()"
   ]
  },
  {
   "cell_type": "code",
   "execution_count": 39,
   "id": "efde245a",
   "metadata": {},
   "outputs": [
    {
     "name": "stdout",
     "output_type": "stream",
     "text": [
      "[[ 0.85669131 -0.34814459  0.44742824 ... -0.21656679 -0.88496718\n",
      "  -0.07504356]\n",
      " [ 0.85669131 -1.24475223  0.44742824 ... -0.21656679 -0.88496718\n",
      "  -0.07504356]\n",
      " [-1.06545809 -0.51116416  0.44742824 ... -0.21656679 -0.88496718\n",
      "  -0.07504356]\n",
      " ...\n",
      " [ 0.81300609 -0.59267395  0.44742824 ... -0.21656679 -0.88496718\n",
      "  -0.07504356]\n",
      " [ 0.55574873 -1.24475223  0.44742824 ... -0.21656679 -0.88496718\n",
      "  -0.07504356]\n",
      " [-0.33251728  1.68960003  0.44742824 ... -0.21656679  1.12998541\n",
      "  -0.07504356]]\n"
     ]
    }
   ],
   "source": [
    "#fit transform data\n",
    "model = scaler.fit_transform(reviews)\n",
    "print(model)"
   ]
  },
  {
   "cell_type": "code",
   "execution_count": null,
   "id": "1b64f6de",
   "metadata": {},
   "outputs": [],
   "source": []
  }
 ],
 "metadata": {
  "kernelspec": {
   "display_name": "Python 3 (ipykernel)",
   "language": "python",
   "name": "python3"
  },
  "language_info": {
   "codemirror_mode": {
    "name": "ipython",
    "version": 3
   },
   "file_extension": ".py",
   "mimetype": "text/x-python",
   "name": "python",
   "nbconvert_exporter": "python",
   "pygments_lexer": "ipython3",
   "version": "3.9.7"
  }
 },
 "nbformat": 4,
 "nbformat_minor": 5
}
