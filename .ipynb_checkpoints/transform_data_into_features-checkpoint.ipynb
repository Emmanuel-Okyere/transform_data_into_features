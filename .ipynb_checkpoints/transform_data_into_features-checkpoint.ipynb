{
 "cells": [
  {
   "cell_type": "code",
   "execution_count": 1,
   "id": "40acd5cb",
   "metadata": {},
   "outputs": [],
   "source": [
    "import pandas as pd\n",
    "import numpy as np\n",
    "from sklearn.preprocessing import StandardScaler"
   ]
  },
  {
   "cell_type": "code",
   "execution_count": 2,
   "id": "4b0c3340",
   "metadata": {},
   "outputs": [],
   "source": [
    "#import data\n",
    "reviews = pd.read_csv(\"reviews.csv\")"
   ]
  },
  {
   "cell_type": "code",
   "execution_count": 3,
   "id": "9e4fa93f",
   "metadata": {},
   "outputs": [
    {
     "name": "stdout",
     "output_type": "stream",
     "text": [
      "   clothing_id  age                review_title  \\\n",
      "0         1095   39  Cute,looks like a dress on   \n",
      "1         1095   28       So cute, great print!   \n",
      "2          699   37              So flattering!   \n",
      "3         1072   36                  Effortless   \n",
      "4         1094   32              You need this!   \n",
      "\n",
      "                                         review_text  recommended  \\\n",
      "0  If you are afraid of the jumpsuit trend but li...         True   \n",
      "1  I love fitted top dresses like this but i find...         True   \n",
      "2  I love these cozy, fashionable leggings. they ...         True   \n",
      "3  Another reviewer said it best, \"i love the way...         True   \n",
      "4  Rompers are my fav so i'm biased writing this ...         True   \n",
      "\n",
      "    division_name department_name review_date    rating  \n",
      "0         General         Dresses  2019-07-08  Liked it  \n",
      "1         General         Dresses  2019-05-17  Loved it  \n",
      "2       Initmates        Intimate  2019-06-24  Loved it  \n",
      "3  General Petite         Dresses  2019-12-06  Loved it  \n",
      "4         General         Dresses  2019-10-04  Loved it  \n"
     ]
    }
   ],
   "source": [
    "#print column names\n",
    "reviews.head()\n"
   ]
  },
  {
   "cell_type": "code",
   "execution_count": 4,
   "id": "900cbf58",
   "metadata": {},
   "outputs": [
    {
     "name": "stdout",
     "output_type": "stream",
     "text": [
      "<class 'pandas.core.frame.DataFrame'>\n",
      "RangeIndex: 5000 entries, 0 to 4999\n",
      "Data columns (total 9 columns):\n",
      " #   Column           Non-Null Count  Dtype \n",
      "---  ------           --------------  ----- \n",
      " 0   clothing_id      5000 non-null   int64 \n",
      " 1   age              5000 non-null   int64 \n",
      " 2   review_title     4174 non-null   object\n",
      " 3   review_text      4804 non-null   object\n",
      " 4   recommended      5000 non-null   bool  \n",
      " 5   division_name    4996 non-null   object\n",
      " 6   department_name  4996 non-null   object\n",
      " 7   review_date      5000 non-null   object\n",
      " 8   rating           5000 non-null   object\n",
      "dtypes: bool(1), int64(2), object(6)\n",
      "memory usage: 317.5+ KB\n",
      "None\n"
     ]
    }
   ],
   "source": [
    " \n",
    "#print .info\n",
    "reviews.info()\n"
   ]
  },
  {
   "cell_type": "code",
   "execution_count": 5,
   "id": "84ec68a6",
   "metadata": {},
   "outputs": [
    {
     "name": "stdout",
     "output_type": "stream",
     "text": [
      "True     4166\n",
      "False     834\n",
      "Name: recommended, dtype: int64\n"
     ]
    }
   ],
   "source": [
    "#look at the counts of recommended\n",
    "print(reviews[\"recommended\"].value_counts())\n",
    " "
   ]
  },
  {
   "cell_type": "code",
   "execution_count": 6,
   "id": "6f1d35d3",
   "metadata": {},
   "outputs": [],
   "source": [
    "#create binary dictionary\n",
    "binary_dict = {True: 1, False:0}\n",
    " "
   ]
  },
  {
   "cell_type": "code",
   "execution_count": 7,
   "id": "458d5887",
   "metadata": {},
   "outputs": [],
   "source": [
    "#transform column\n",
    "reviews[\"recommended\"] = reviews[\"recommended\"].map(binary_dict)\n",
    " "
   ]
  },
  {
   "cell_type": "code",
   "execution_count": 8,
   "id": "2b58806e",
   "metadata": {},
   "outputs": [
    {
     "name": "stdout",
     "output_type": "stream",
     "text": [
      "1    4166\n",
      "0     834\n",
      "Name: recommended, dtype: int64\n"
     ]
    }
   ],
   "source": [
    "#print your transformed column\n",
    "print(reviews[\"recommended\"].value_counts())\n"
   ]
  },
  {
   "cell_type": "code",
   "execution_count": 9,
   "id": "d6aed127",
   "metadata": {},
   "outputs": [
    {
     "name": "stdout",
     "output_type": "stream",
     "text": [
      "Loved it     2798\n",
      "Liked it     1141\n",
      "Was okay      564\n",
      "Not great     304\n",
      "Hated it      193\n",
      "Name: rating, dtype: int64\n"
     ]
    }
   ],
   "source": [
    "#look at the counts of rating\n",
    "print(reviews[\"rating\"].value_counts())\n",
    " "
   ]
  },
  {
   "cell_type": "code",
   "execution_count": 10,
   "id": "07a051bb",
   "metadata": {},
   "outputs": [],
   "source": [
    "\n",
    "#create dictionary\n",
    "rating_dict = {\"Loved it\":5, \"Liked it\": 4, \"Was Okay\":3, \"Not great\":2, \"Hated it\":1}\n",
    " "
   ]
  },
  {
   "cell_type": "code",
   "execution_count": 11,
   "id": "05508289",
   "metadata": {},
   "outputs": [
    {
     "name": "stdout",
     "output_type": "stream",
     "text": [
      "5.0    2798\n",
      "4.0    1141\n",
      "2.0     304\n",
      "1.0     193\n",
      "Name: rating, dtype: int64\n"
     ]
    }
   ],
   "source": [
    "#transform rating column\n",
    "reviews[\"rating\"] = reviews[\"rating\"].map(rating_dict)\n",
    "#print your transformed column values\n",
    "print(reviews[\"rating\"].value_counts())"
   ]
  },
  {
   "cell_type": "code",
   "execution_count": 12,
   "id": "73a2b549",
   "metadata": {},
   "outputs": [
    {
     "name": "stdout",
     "output_type": "stream",
     "text": [
      "Tops        2196\n",
      "Dresses     1322\n",
      "Bottoms      848\n",
      "Intimate     378\n",
      "Jackets      224\n",
      "Trend         28\n",
      "Name: department_name, dtype: int64\n"
     ]
    }
   ],
   "source": [
    "#get the number of categories in a feature\n",
    "print(reviews[\"department_name\"].value_counts())\n",
    " "
   ]
  },
  {
   "cell_type": "code",
   "execution_count": 13,
   "id": "17b5e7fe",
   "metadata": {},
   "outputs": [],
   "source": [
    "#perform get_dummies\n",
    "one_hot = pd.get_dummies(reviews[\"department_name\"])\n",
    " "
   ]
  },
  {
   "cell_type": "code",
   "execution_count": 14,
   "id": "5e5424c2",
   "metadata": {},
   "outputs": [],
   "source": [
    "#join the new columns back onto the original\n",
    "reviews = reviews.join(one_hot)\n"
   ]
  },
  {
   "cell_type": "code",
   "execution_count": 15,
   "id": "d8c3270e",
   "metadata": {},
   "outputs": [
    {
     "name": "stdout",
     "output_type": "stream",
     "text": [
      "Index(['clothing_id', 'age', 'review_title', 'review_text', 'recommended',\n",
      "       'division_name', 'department_name', 'review_date', 'rating', 'Bottoms',\n",
      "       'Dresses', 'Intimate', 'Jackets', 'Tops', 'Trend'],\n",
      "      dtype='object')\n"
     ]
    }
   ],
   "source": [
    "#print column names\n",
    "print(reviews.columns)\n"
   ]
  },
  {
   "cell_type": "code",
   "execution_count": 16,
   "id": "e04d4ceb",
   "metadata": {},
   "outputs": [
    {
     "name": "stdout",
     "output_type": "stream",
     "text": [
      "datetime64[ns]\n"
     ]
    }
   ],
   "source": [
    "#transform review_date to date-time data\n",
    "reviews[\"review_date\"] = pd.to_datetime(reviews[\"review_date\"])\n",
    "#print review_date data type \n",
    "print(reviews[\"review_date\"].dtypes)\n"
   ]
  },
  {
   "cell_type": "code",
   "execution_count": 17,
   "id": "48d52e42",
   "metadata": {},
   "outputs": [],
   "source": [
    "\n",
    "#get numerical columns\n",
    "reviews = reviews[['clothing_id', 'age', 'recommended', 'rating', 'Bottoms', 'Dresses', 'Intimate', 'Jackets', 'Tops', 'Trend']].copy()"
   ]
  },
  {
   "cell_type": "code",
   "execution_count": 18,
   "id": "a2ef0ccd",
   "metadata": {},
   "outputs": [],
   "source": [
    "#reset index\n",
    "reviews = reviews.set_index(reviews[\"clothing_id\"])\n",
    "#instantiate standard scaler\n",
    "scaler = StandardScaler()"
   ]
  },
  {
   "cell_type": "code",
   "execution_count": 19,
   "id": "6630be13",
   "metadata": {},
   "outputs": [
    {
     "name": "stdout",
     "output_type": "stream",
     "text": [
      "[[ 0.85669131 -0.34814459  0.44742824 ... -0.21656679 -0.88496718\n",
      "  -0.07504356]\n",
      " [ 0.85669131 -1.24475223  0.44742824 ... -0.21656679 -0.88496718\n",
      "  -0.07504356]\n",
      " [-1.06545809 -0.51116416  0.44742824 ... -0.21656679 -0.88496718\n",
      "  -0.07504356]\n",
      " ...\n",
      " [ 0.81300609 -0.59267395  0.44742824 ... -0.21656679 -0.88496718\n",
      "  -0.07504356]\n",
      " [ 0.55574873 -1.24475223  0.44742824 ... -0.21656679 -0.88496718\n",
      "  -0.07504356]\n",
      " [-0.33251728  1.68960003  0.44742824 ... -0.21656679  1.12998541\n",
      "  -0.07504356]]\n"
     ]
    }
   ],
   "source": [
    "#fit transform data\n",
    "model = scaler.fit_transform(reviews)\n",
    "print(model)"
   ]
  },
  {
   "cell_type": "code",
   "execution_count": null,
   "id": "70e1d3f1",
   "metadata": {},
   "outputs": [],
   "source": []
  }
 ],
 "metadata": {
  "kernelspec": {
   "display_name": "Python 3 (ipykernel)",
   "language": "python",
   "name": "python3"
  },
  "language_info": {
   "codemirror_mode": {
    "name": "ipython",
    "version": 3
   },
   "file_extension": ".py",
   "mimetype": "text/x-python",
   "name": "python",
   "nbconvert_exporter": "python",
   "pygments_lexer": "ipython3",
   "version": "3.9.7"
  }
 },
 "nbformat": 4,
 "nbformat_minor": 5
}
